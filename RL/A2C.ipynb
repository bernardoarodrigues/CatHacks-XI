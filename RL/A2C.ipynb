{
 "cells": [
  {
   "cell_type": "markdown",
   "metadata": {},
   "source": [
    "# Advantage Actor-Critic (A2C)"
   ]
  },
  {
   "cell_type": "code",
   "execution_count": 1,
   "metadata": {},
   "outputs": [],
   "source": [
    "import torch\n",
    "import torch.nn as nn\n",
    "import torch.nn.functional as F\n",
    "\n",
    "import torch.optim as optim\n",
    "import numpy as np\n",
    "import pandas as pd\n",
    "import flappy_bird_gymnasium\n",
    "import matplotlib.pyplot as plt\n",
    "import random\n",
    "import gymnasium as gym"
   ]
  },
  {
   "cell_type": "markdown",
   "metadata": {},
   "source": [
    "## Defining Policy Network"
   ]
  },
  {
   "cell_type": "code",
   "execution_count": 39,
   "metadata": {},
   "outputs": [],
   "source": [
    "class ActorCritic(nn.Module):\n",
    "    def __init__(self, input_dim=12, hidden_dim=128*2, action_dim=2):\n",
    "        super(ActorCritic, self).__init__()\n",
    "        # Shared layers\n",
    "        self.fc1 = nn.Linear(input_dim, hidden_dim)\n",
    "        self.fc2 = nn.Linear(hidden_dim, hidden_dim)\n",
    "        self.fc3 = nn.Linear(hidden_dim, hidden_dim)\n",
    "        self.fc4 = nn.Linear(hidden_dim, hidden_dim)\n",
    "        \n",
    "        # Policy head (actor)\n",
    "        self.policy = nn.Linear(hidden_dim, action_dim)\n",
    "        \n",
    "        # Value head (critic)\n",
    "        self.value = nn.Linear(hidden_dim, 1)\n",
    "\n",
    "    def forward(self, x):\n",
    "        x = F.relu(self.fc1(x))\n",
    "        x = F.relu(self.fc2(x))\n",
    "        x = F.relu(self.fc3(x))\n",
    "        x = F.relu(self.fc4(x))\n",
    "        policy_logits = self.policy(x)\n",
    "        value = self.value(x)\n",
    "        return policy_logits, value\n"
   ]
  },
  {
   "cell_type": "markdown",
   "metadata": {},
   "source": [
    "## Select Action & Save Log Prob"
   ]
  },
  {
   "cell_type": "code",
   "execution_count": 40,
   "metadata": {},
   "outputs": [],
   "source": [
    "from torch.distributions import Categorical\n",
    "\n",
    "def select_action(model, state):\n",
    "    state = torch.FloatTensor(state).unsqueeze(0)  # shape (1, 12)\n",
    "    logits, value = model(state)\n",
    "    probs = F.softmax(logits, dim=-1)\n",
    "    dist = Categorical(probs)\n",
    "    action = dist.sample()\n",
    "    return action.item(), dist.log_prob(action), value\n"
   ]
  },
  {
   "cell_type": "markdown",
   "metadata": {},
   "source": [
    "## Training Loop"
   ]
  },
  {
   "cell_type": "code",
   "execution_count": 41,
   "metadata": {},
   "outputs": [],
   "source": [
    "def train_a2c(env, model, optimizer, gamma=0.99, max_episodes=1000):\n",
    "    total_reward = 0\n",
    "\n",
    "    for episode in range(max_episodes):\n",
    "        state = env.reset()[0]\n",
    "        log_probs = []\n",
    "        values = []\n",
    "        rewards = []\n",
    "        done = False\n",
    "\n",
    "        while not done:\n",
    "            action, log_prob, value = select_action(model, state)\n",
    "            next_state, reward, done, _, info = env.step(action)\n",
    "            \n",
    "            log_probs.append(log_prob)\n",
    "            values.append(value)\n",
    "            rewards.append(reward)\n",
    "            \n",
    "            state = next_state\n",
    "            total_reward += reward\n",
    "\n",
    "        # Compute returns and advantages\n",
    "        returns = []\n",
    "        R = 0 if done else model(torch.FloatTensor(state).unsqueeze(0))[1].item()\n",
    "        for r in reversed(rewards):\n",
    "            R = r + gamma * R\n",
    "            returns.insert(0, R)\n",
    "\n",
    "        returns = torch.tensor(returns)\n",
    "        values = torch.cat(values)\n",
    "        log_probs = torch.stack(log_probs)\n",
    "\n",
    "        advantage = returns - values.squeeze()\n",
    "\n",
    "        # Losses\n",
    "        actor_loss = -(log_probs * advantage.detach()).mean()\n",
    "        critic_loss = advantage.pow(2).mean()\n",
    "        loss = actor_loss + 0.5 * critic_loss\n",
    "\n",
    "        # Optimization step\n",
    "        optimizer.zero_grad()\n",
    "        loss.backward()\n",
    "        optimizer.step()\n",
    "\n",
    "        if episode % 100 == 0:\n",
    "            print(f\"Episode {episode} and past 100 episodes, Avg Reward: {total_reward/100:.2f}\")\n",
    "            total_reward = 0\n"
   ]
  },
  {
   "cell_type": "markdown",
   "metadata": {},
   "source": [
    "## Training"
   ]
  },
  {
   "cell_type": "code",
   "execution_count": 42,
   "metadata": {},
   "outputs": [
    {
     "name": "stdout",
     "output_type": "stream",
     "text": [
      "Episode 0 and past 100 episodes, Avg Reward: -0.08\n",
      "Episode 100 and past 100 episodes, Avg Reward: -0.52\n",
      "Episode 200 and past 100 episodes, Avg Reward: 2.63\n",
      "Episode 300 and past 100 episodes, Avg Reward: 4.43\n",
      "Episode 400 and past 100 episodes, Avg Reward: 4.31\n",
      "Episode 500 and past 100 episodes, Avg Reward: 4.07\n",
      "Episode 600 and past 100 episodes, Avg Reward: 4.13\n",
      "Episode 700 and past 100 episodes, Avg Reward: 4.67\n",
      "Episode 800 and past 100 episodes, Avg Reward: 4.82\n",
      "Episode 900 and past 100 episodes, Avg Reward: 4.35\n",
      "Episode 1000 and past 100 episodes, Avg Reward: 4.43\n",
      "Episode 1100 and past 100 episodes, Avg Reward: 4.47\n",
      "Episode 1200 and past 100 episodes, Avg Reward: 4.99\n",
      "Episode 1300 and past 100 episodes, Avg Reward: 5.09\n",
      "Episode 1400 and past 100 episodes, Avg Reward: 4.97\n",
      "Episode 1500 and past 100 episodes, Avg Reward: 5.06\n",
      "Episode 1600 and past 100 episodes, Avg Reward: 5.23\n",
      "Episode 1700 and past 100 episodes, Avg Reward: 5.03\n",
      "Episode 1800 and past 100 episodes, Avg Reward: 4.93\n",
      "Episode 1900 and past 100 episodes, Avg Reward: 5.61\n",
      "Episode 2000 and past 100 episodes, Avg Reward: 5.16\n",
      "Episode 2100 and past 100 episodes, Avg Reward: 4.94\n",
      "Episode 2200 and past 100 episodes, Avg Reward: 5.70\n",
      "Episode 2300 and past 100 episodes, Avg Reward: 5.34\n",
      "Episode 2400 and past 100 episodes, Avg Reward: 4.60\n",
      "Episode 2500 and past 100 episodes, Avg Reward: 4.09\n",
      "Episode 2600 and past 100 episodes, Avg Reward: 5.50\n",
      "Episode 2700 and past 100 episodes, Avg Reward: 5.67\n",
      "Episode 2800 and past 100 episodes, Avg Reward: 6.49\n",
      "Episode 2900 and past 100 episodes, Avg Reward: 5.55\n"
     ]
    }
   ],
   "source": [
    "env = gym.make(\"FlappyBird-v0\", render_mode=None, use_lidar=False)\n",
    "\n",
    "model = ActorCritic()\n",
    "optimizer = torch.optim.Adam(model.parameters(), lr=1e-3)\n",
    "train_a2c(env, model, optimizer, max_episodes=3000)\n",
    "\n",
    "# Save model after training\n",
    "torch.save(model.state_dict(), \"saved_policies/AC2_model.pth\")"
   ]
  },
  {
   "cell_type": "markdown",
   "metadata": {},
   "source": [
    "## Let bot play the game"
   ]
  },
  {
   "cell_type": "code",
   "execution_count": 56,
   "metadata": {},
   "outputs": [
    {
     "name": "stdout",
     "output_type": "stream",
     "text": [
      "0\n",
      "0\n",
      "0\n",
      "0\n",
      "0\n",
      "0\n",
      "0\n",
      "0\n",
      "0\n",
      "0\n",
      "0\n",
      "0\n",
      "0\n",
      "1\n",
      "0\n",
      "0\n",
      "0\n",
      "0\n",
      "0\n",
      "0\n",
      "0\n",
      "0\n",
      "0\n",
      "0\n",
      "0\n",
      "0\n",
      "0\n",
      "0\n",
      "1\n",
      "0\n",
      "0\n",
      "1\n",
      "1\n",
      "0\n",
      "0\n",
      "0\n",
      "0\n",
      "0\n",
      "0\n",
      "1\n",
      "0\n",
      "0\n",
      "0\n",
      "1\n",
      "1\n",
      "1\n",
      "1\n",
      "1\n",
      "1\n",
      "1\n"
     ]
    }
   ],
   "source": [
    "env = gym.make(\"FlappyBird-v0\", render_mode=\"human\", use_lidar=False)\n",
    "\n",
    "# Load model\n",
    "model = ActorCritic()\n",
    "model.load_state_dict(torch.load(\"saved_policies/AC2_model.pth\"))\n",
    "model.eval()\n",
    "\n",
    "\n",
    "# Use the trained model\n",
    "obs, _ = env.reset()\n",
    "\n",
    "done = False\n",
    "while not done:\n",
    "\n",
    "    action, log_prob, value = select_action(model, obs)\n",
    "    print(action)\n",
    "\n",
    "    obs, reward, done, truncated, info = env.step(action)\n",
    "    # print(f\"Action {action} gave {reward} reward...\")\n",
    "    # print(obs, reward, done, truncated, info)\n",
    "\n",
    "env.close()\n"
   ]
  },
  {
   "cell_type": "code",
   "execution_count": null,
   "metadata": {},
   "outputs": [],
   "source": []
  },
  {
   "cell_type": "code",
   "execution_count": null,
   "metadata": {},
   "outputs": [],
   "source": []
  }
 ],
 "metadata": {
  "kernelspec": {
   "display_name": ".venv",
   "language": "python",
   "name": "python3"
  },
  "language_info": {
   "codemirror_mode": {
    "name": "ipython",
    "version": 3
   },
   "file_extension": ".py",
   "mimetype": "text/x-python",
   "name": "python",
   "nbconvert_exporter": "python",
   "pygments_lexer": "ipython3",
   "version": "3.12.0"
  }
 },
 "nbformat": 4,
 "nbformat_minor": 2
}
